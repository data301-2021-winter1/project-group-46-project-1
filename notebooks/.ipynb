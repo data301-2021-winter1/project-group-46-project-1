{
 "cells": [
  {
   "cell_type": "code",
   "execution_count": null,
   "id": "40178d0c-ad9e-45ff-858b-64c528fec21d",
   "metadata": {},
   "outputs": [],
   "source": []
  },
  {
   "cell_type": "code",
   "execution_count": null,
   "id": "80c09a7a-3035-40c6-a3ae-d3b7dfaa4538",
   "metadata": {},
   "outputs": [],
   "source": []
  },
  {
   "cell_type": "code",
   "execution_count": null,
   "id": "ac778898-dd94-4e28-bb7f-b36e706b3867",
   "metadata": {},
   "outputs": [],
   "source": []
  }
 ],
 "metadata": {
  "kernelspec": {
   "display_name": "Python 3",
   "language": "python",
   "name": "python3"
  },
  "language_info": {
   "name": ""
  }
 },
 "nbformat": 4,
 "nbformat_minor": 5
}
