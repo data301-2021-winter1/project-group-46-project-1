{
 "cells": [
  {
   "cell_type": "code",
   "execution_count": 1,
   "id": "35ecc23d-5c5d-4b1a-b430-a6086dd36654",
   "metadata": {},
   "outputs": [
    {
     "name": "stdout",
     "output_type": "stream",
     "text": [
      "End of report\n"
     ]
    }
   ],
   "source": [
    "time = \"3pm\" \n",
    "mood = \"good\"\n",
    "def report():\n",
    "    print(\"The current time is \" + time)\n",
    "    print(\"The mood is \" + mood)\n",
    "print(\"End of report\")"
   ]
  },
  {
   "cell_type": "code",
   "execution_count": 2,
   "id": "421a073f-8554-4027-badb-50a531e952c1",
   "metadata": {},
   "outputs": [
    {
     "name": "stdout",
     "output_type": "stream",
     "text": [
      "The current time is 3pm\n",
      "The mood is good\n"
     ]
    }
   ],
   "source": [
    "report()"
   ]
  },
  {
   "cell_type": "code",
   "execution_count": 6,
   "id": "5cae668e-a79a-4b47-a4e4-fd95e827199f",
   "metadata": {},
   "outputs": [],
   "source": [
    "def double_index(list, index):\n",
    "\n",
    "    new = []\n",
    "\n",
    "    new = list\n",
    "\n",
    "    new[index] =new[index] *2\n",
    "\n",
    "    return new\n"
   ]
  },
  {
   "cell_type": "code",
   "execution_count": 7,
   "id": "7930fcb1-b828-48c7-a969-3875eaf79d72",
   "metadata": {},
   "outputs": [
    {
     "data": {
      "text/plain": [
       "[1, 2, 6, 4]"
      ]
     },
     "execution_count": 7,
     "metadata": {},
     "output_type": "execute_result"
    }
   ],
   "source": [
    "double_index([1, 2, 3, 4], 2)"
   ]
  },
  {
   "cell_type": "code",
   "execution_count": 11,
   "id": "5073cdcb-588f-4de1-9992-61b6011d5246",
   "metadata": {},
   "outputs": [
    {
     "ename": "IndentationError",
     "evalue": "unindent does not match any outer indentation level (<tokenize>, line 3)",
     "output_type": "error",
     "traceback": [
      "\u001b[0;36m  File \u001b[0;32m\"<tokenize>\"\u001b[0;36m, line \u001b[0;32m3\u001b[0m\n\u001b[0;31m    for I in input:\u001b[0m\n\u001b[0m    ^\u001b[0m\n\u001b[0;31mIndentationError\u001b[0m\u001b[0;31m:\u001b[0m unindent does not match any outer indentation level\n"
     ]
    }
   ],
   "source": [
    "def delete_starting_evens(input):\n",
    "     count = 0\n",
    "    for I in input:\n",
    "        ]if I%2 == 0:\n",
    "         input.pop(count)\n",
    "           count = count +1\n",
    "        else:\n",
    "        print(input)\n",
    "\n",
    "    return input"
   ]
  },
  {
   "cell_type": "code",
   "execution_count": null,
   "id": "e37e578e-1df8-4207-a36c-03cd8121be7f",
   "metadata": {},
   "outputs": [],
   "source": []
  }
 ],
 "metadata": {
  "kernelspec": {
   "display_name": "Python 3 (ipykernel)",
   "language": "python",
   "name": "python3"
  },
  "language_info": {
   "codemirror_mode": {
    "name": "ipython",
    "version": 3
   },
   "file_extension": ".py",
   "mimetype": "text/x-python",
   "name": "python",
   "nbconvert_exporter": "python",
   "pygments_lexer": "ipython3",
   "version": "3.9.5"
  }
 },
 "nbformat": 4,
 "nbformat_minor": 5
}
